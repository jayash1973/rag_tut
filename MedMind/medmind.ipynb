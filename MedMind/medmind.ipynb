{
 "cells": [
  {
   "cell_type": "code",
   "execution_count": 1,
   "metadata": {},
   "outputs": [],
   "source": [
    "from llama_index.indices.managed.vectara import VectaraIndex\n",
    "from dotenv import load_dotenv\n",
    "import os\n",
    "import gradio as gr\n",
    "import random\n",
    "import requests\n",
    "from Bio import Entrez\n",
    "import together\n",
    "from pprint import pprint\n",
    "from llama_index.indices.managed.vectara import query\n",
    "from llama_index.core.schema import Document\n",
    "from PIL import Image\n",
    "import io\n",
    "import datetime\n",
    "import torch\n",
    "from transformers import AutoModelForSequenceClassification, AutoTokenizer\n",
    "import numpy as np\n",
    "from typing import List, Optional\n"
   ]
  },
  {
   "cell_type": "code",
   "execution_count": 2,
   "metadata": {},
   "outputs": [
    {
     "data": {
      "text/plain": [
       "True"
      ]
     },
     "execution_count": 2,
     "metadata": {},
     "output_type": "execute_result"
    }
   ],
   "source": [
    "load_dotenv()"
   ]
  },
  {
   "cell_type": "code",
   "execution_count": 3,
   "metadata": {},
   "outputs": [],
   "source": [
    "os.environ[\"VECTARA_INDEX_API_KEY\"] = os.getenv(\"VECTARA_INDEX_API_KEY\", \"zwt_ni_bLu6MRQXzWKPIU__Uubvy_0Xz_FEr-2sfUg\")\n",
    "os.environ[\"VECTARA_QUERY_API_KEY\"] = os.getenv(\"VECTARA_QUERY_API_KEY\", \"zwt_ni_bLu6MRQXzWKPIU__Uubvy_0Xz_FEr-2sfUg\")\n",
    "os.environ[\"VECTARA_API_KEY\"] = os.getenv(\"VECTARA_API_KEY\", \"zut_ni_bLoa0I3AeNSjxeZ-UfECnm_9Xv5d4RVBAqw\")\n",
    "os.environ[\"VECTARA_CORPUS_ID\"] = os.getenv(\"VECTARA_CORPUS_ID\", \"2\")\n",
    "os.environ[\"VECTARA_CUSTOMER_ID\"] = os.getenv(\"VECTARA_CUSTOMER_ID\", \"2653936430\")\n",
    "os.environ[\"TOGETHER_API\"] = os.getenv(\"TOGETHER_API\", \"7e6c200b7b36924bc1b4a5973859a20d2efa7180e9b5c977301173a6c099136b\")"
   ]
  },
  {
   "cell_type": "code",
   "execution_count": 4,
   "metadata": {},
   "outputs": [],
   "source": [
    "endpoint = 'https://api.together.xyz/inference'"
   ]
  },
  {
   "cell_type": "code",
   "execution_count": 5,
   "metadata": {},
   "outputs": [
    {
     "name": "stdout",
     "output_type": "stream",
     "text": [
      "LLM is explicitly disabled. Using MockLLM.\n",
      "Embeddings have been explicitly disabled. Using MockEmbedding.\n"
     ]
    }
   ],
   "source": [
    "index = VectaraIndex()\n",
    "retriever = index.as_retriever(similarity_top_k=7)"
   ]
  },
  {
   "cell_type": "code",
   "execution_count": 6,
   "metadata": {},
   "outputs": [],
   "source": [
    "# Load the hallucination evaluation model\n",
    "model_name = \"vectara/hallucination_evaluation_model\"\n",
    "model = AutoModelForSequenceClassification.from_pretrained(model_name)\n",
    "tokenizer = AutoTokenizer.from_pretrained(model_name)"
   ]
  },
  {
   "cell_type": "code",
   "execution_count": 7,
   "metadata": {},
   "outputs": [],
   "source": [
    "def summarize_text(text):\n",
    "    \"\"\"\n",
    "    Summarizes the given text using the Together.ai API.\n",
    "    \"\"\"\n",
    "    headers = {\"Authorization\": f\"Bearer {os.environ['TOGETHER_API']}\"}\n",
    "    data = {\"text\": text}\n",
    "    response = requests.post(endpoint, headers=headers, json=data)\n",
    "\n",
    "    if response.status_code == 200:\n",
    "        summary_result = response.json()\n",
    "        summary = summary_result.get(\"summary\")\n",
    "    else:\n",
    "        summary = None  # Or handle errors as needed\n",
    "    return summary"
   ]
  },
  {
   "cell_type": "code",
   "execution_count": 8,
   "metadata": {},
   "outputs": [],
   "source": [
    "def search_pubmed(query: str) -> Optional[List[str]]:\n",
    "    \"\"\"\n",
    "    Searches PubMed for a given query and returns a list of formatted results \n",
    "    (or None if no results are found).\n",
    "    \"\"\"\n",
    "    Entrez.email = \"jayashbhardwaj3@gmail.com\"  # Replace with your email\n",
    "\n",
    "    try:\n",
    "        # Use ESearch to retrieve UIDs\n",
    "        handle = Entrez.esearch(db=\"pubmed\", term=query, retmax=3)\n",
    "        record = Entrez.read(handle)\n",
    "        id_list = record[\"IdList\"]\n",
    "\n",
    "        if not id_list:  # Check for empty results\n",
    "            return None\n",
    "\n",
    "        # Fetch details for each UID using EFetch\n",
    "        handle = Entrez.efetch(db=\"pubmed\", id=id_list, retmode=\"xml\")\n",
    "        articles = Entrez.read(handle)\n",
    "\n",
    "        results = []\n",
    "        for article in articles['PubmedArticle']:\n",
    "            # Safely access article data, handling potential KeyError\n",
    "            try:\n",
    "                medline_citation = article['MedlineCitation']\n",
    "                article_data = medline_citation['Article']\n",
    "                title = article_data['ArticleTitle']\n",
    "                abstract = article_data.get('Abstract', {}).get('AbstractText', [\"\"])[0]\n",
    "\n",
    "                # Create result string\n",
    "                result = f\"**Title:** {title}\\n**Abstract:** {abstract}\\n\"\n",
    "                result += f\"**Link:** https://pubmed.ncbi.nlm.nih.gov/{medline_citation['PMID']}\\n\\n\"\n",
    "                results.append(result)\n",
    "            except KeyError:\n",
    "                print(f\"Error parsing article: {article}\")  # Log error for debugging\n",
    "\n",
    "        return results\n",
    "\n",
    "    except IOError as e:\n",
    "        print(f\"Error accessing PubMed: {e}\")\n",
    "        return None"
   ]
  },
  {
   "cell_type": "code",
   "execution_count": 9,
   "metadata": {},
   "outputs": [],
   "source": [
    "def safe_search(query):\n",
    "    url = f\"https://api.duckduckgo.com/?q={query}&format=json\"\n",
    "    response = requests.get(url)\n",
    "    if response.status_code == 200:\n",
    "        data = response.json()\n",
    "        results = \"\\n\".join([f\"- {result['Abstract']}\" for result in data['RelatedTopics'][:3]])\n",
    "        return results\n",
    "    else:\n",
    "        return None"
   ]
  },
  {
   "cell_type": "code",
   "execution_count": 10,
   "metadata": {},
   "outputs": [],
   "source": [
    "def medmind_chatbot(user_input, chat_history=None):\n",
    "    if chat_history is None:\n",
    "        chat_history = []\n",
    "\n",
    "    # 1. Query Vectara for medical knowledge base context\n",
    "    query_str = user_input\n",
    "    response = index.as_query_engine().query(query_str)\n",
    "    vectara_response = f\"**MedMind vectara Knowledge Base Response:**\\n{response.response}\"\n",
    "\n",
    "    # 2. Search PubMed and summarize relevant articles\n",
    "    pubmed_results = search_pubmed(user_input)\n",
    "    pubmed_response = \"\"\n",
    "    if pubmed_results:\n",
    "        pubmed_response += \"**Relevant PubMed Articles (Summarized):**\\n\\n\"\n",
    "        for result in pubmed_results:\n",
    "            title, abstract, link = result.split(\"\\n\")[:3] \n",
    "            summary = summarize_text(abstract)\n",
    "            pubmed_response += f\"**{title}**\\n{summary}\\n[Link]({link})\\n\\n\"\n",
    "    \n",
    "    # 3. Perform safe search using DuckDuckGo\n",
    "    search_results = safe_search(user_input)\n",
    "    search_response = \"\"\n",
    "    if search_results:\n",
    "        search_response += f\"**Web Search Results:**\\n{search_results}\"\n",
    "\n",
    "    # Combine responses\n",
    "    response_text = vectara_response + \"\\n\\n\" + pubmed_response + \"\\n\\n\" + search_response\n",
    "\n",
    "    # Hallucination Evaluation\n",
    "    def vectara_hallucination_evaluation_model(text):\n",
    "        inputs = tokenizer(text, return_tensors=\"pt\")\n",
    "        outputs = model(**inputs)\n",
    "        hallucination_probability = outputs.logits[0][0].item()  \n",
    "        return hallucination_probability\n",
    "\n",
    "    hallucination_score = vectara_hallucination_evaluation_model(response_text)\n",
    "    \n",
    "    # Response Filtering/Modification\n",
    "    HIGH_HALLUCINATION_THRESHOLD = 0.8  \n",
    "    if hallucination_score > HIGH_HALLUCINATION_THRESHOLD:\n",
    "        response_text = \"I'm still under development and learning. I cannot confidently answer this question yet.\"  \n",
    "\n",
    "    chat_history.append((user_input, response_text))\n",
    "    return response_text, chat_history"
   ]
  },
  {
   "cell_type": "code",
   "execution_count": 11,
   "metadata": {},
   "outputs": [
    {
     "data": {
      "text/plain": [
       "(\"**Medical Knowledge Base Response:**\\nThe best treatments for lung cancer depend on various factors such as the type and stage of the cancer. Common treatments include surgery, chemotherapy, radiation therapy, targeted therapy, and immunotherapy. Surgery is often used for early-stage lung cancer, while chemotherapy and radiation therapy are commonly used in advanced stages. Targeted therapy focuses on specific genetic mutations in cancer cells, and immunotherapy helps the immune system fight cancer cells. Vaccines may also be beneficial in some cases [1]. It is essential to consider the patient's condition and consult with healthcare professionals to determine the most suitable treatment plan [3].\\n\\n**Relevant PubMed Articles (Summarized):**\\n\\n****Title:** Preoperative nomogram for predicting spread through air spaces in clinical-stage IA non-small cell lung cancer using <sup>18</sup>F-fluorodeoxyglucose positron emission tomography/computed tomography.**\\nNone\\n[Link](**Link:** https://pubmed.ncbi.nlm.nih.gov/38598007)\\n\\n****Title:** Radiotherapy combined with anti-PD-1 and TKI for primary cardiac angiosarcoma considering the joint assessment of TLSs and PD-L1: a case report.**\\nNone\\n[Link](**Link:** https://pubmed.ncbi.nlm.nih.gov/38594687)\\n\\n****Title:** Predictive value of CT and <sup>18</sup>F-FDG PET/CT features on spread through air space in lung adenocarcinoma.**\\nNone\\n[Link](**Link:** https://pubmed.ncbi.nlm.nih.gov/38589832)\\n\\n\\n\\n\",\n",
       " [('what are the best treatments for lungs cancer?',\n",
       "   \"**Medical Knowledge Base Response:**\\nThe best treatments for lung cancer depend on various factors such as the type and stage of the cancer. Common treatments include surgery, chemotherapy, radiation therapy, targeted therapy, and immunotherapy. Surgery is often used for early-stage lung cancer, while chemotherapy and radiation therapy are commonly used in advanced stages. Targeted therapy focuses on specific genetic mutations in cancer cells, and immunotherapy helps the immune system fight cancer cells. Vaccines may also be beneficial in some cases [1]. It is essential to consider the patient's condition and consult with healthcare professionals to determine the most suitable treatment plan [3].\\n\\n**Relevant PubMed Articles (Summarized):**\\n\\n****Title:** Preoperative nomogram for predicting spread through air spaces in clinical-stage IA non-small cell lung cancer using <sup>18</sup>F-fluorodeoxyglucose positron emission tomography/computed tomography.**\\nNone\\n[Link](**Link:** https://pubmed.ncbi.nlm.nih.gov/38598007)\\n\\n****Title:** Radiotherapy combined with anti-PD-1 and TKI for primary cardiac angiosarcoma considering the joint assessment of TLSs and PD-L1: a case report.**\\nNone\\n[Link](**Link:** https://pubmed.ncbi.nlm.nih.gov/38594687)\\n\\n****Title:** Predictive value of CT and <sup>18</sup>F-FDG PET/CT features on spread through air space in lung adenocarcinoma.**\\nNone\\n[Link](**Link:** https://pubmed.ncbi.nlm.nih.gov/38589832)\\n\\n\\n\\n\")])"
      ]
     },
     "execution_count": 11,
     "metadata": {},
     "output_type": "execute_result"
    }
   ],
   "source": [
    "medmind_chatbot(\"what are the best treatments for lungs cancer?\")"
   ]
  },
  {
   "cell_type": "code",
   "execution_count": 12,
   "metadata": {},
   "outputs": [],
   "source": [
    "iface = gr.Interface(\n",
    "    fn=medmind_chatbot,\n",
    "    inputs=[\"text\", \"state\"],\n",
    "    outputs=[\"text\", \"state\"],\n",
    "    title=\"MedMind Chatbot\",\n",
    "    theme='HaleyCH/HaleyCH_Theme'\n",
    ")"
   ]
  },
  {
   "cell_type": "code",
   "execution_count": 13,
   "metadata": {},
   "outputs": [
    {
     "name": "stdout",
     "output_type": "stream",
     "text": [
      "Running on local URL:  http://127.0.0.1:7860\n",
      "\n",
      "To create a public link, set `share=True` in `launch()`.\n"
     ]
    },
    {
     "data": {
      "text/html": [
       "<div><iframe src=\"http://127.0.0.1:7860/\" width=\"100%\" height=\"500\" allow=\"autoplay; camera; microphone; clipboard-read; clipboard-write;\" frameborder=\"0\" allowfullscreen></iframe></div>"
      ],
      "text/plain": [
       "<IPython.core.display.HTML object>"
      ]
     },
     "metadata": {},
     "output_type": "display_data"
    },
    {
     "data": {
      "text/plain": []
     },
     "execution_count": 13,
     "metadata": {},
     "output_type": "execute_result"
    }
   ],
   "source": [
    "iface.launch()"
   ]
  }
 ],
 "metadata": {
  "kernelspec": {
   "display_name": ".venv",
   "language": "python",
   "name": "python3"
  },
  "language_info": {
   "codemirror_mode": {
    "name": "ipython",
    "version": 3
   },
   "file_extension": ".py",
   "mimetype": "text/x-python",
   "name": "python",
   "nbconvert_exporter": "python",
   "pygments_lexer": "ipython3",
   "version": "3.11.4"
  }
 },
 "nbformat": 4,
 "nbformat_minor": 2
}
